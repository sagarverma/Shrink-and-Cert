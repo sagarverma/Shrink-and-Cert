{
 "cells": [
  {
   "cell_type": "code",
   "execution_count": 13,
   "id": "12e28453-0732-42cb-a362-7d299933baaa",
   "metadata": {
    "tags": []
   },
   "outputs": [],
   "source": [
    "import torch\n",
    "import numpy as np"
   ]
  },
  {
   "cell_type": "code",
   "execution_count": 6,
   "id": "33e770cd-98b8-45b0-8105-b020f69f23a7",
   "metadata": {
    "tags": []
   },
   "outputs": [],
   "source": [
    "weight = torch.load('../trained_models/CIFAR10_resnet18_Unstructured_BiP_K0.01/prune/21--k-0.0100_trainer-bilevel_epochs-100_arch-resnet18/checkpoint/model_best.pth.tar')"
   ]
  },
  {
   "cell_type": "code",
   "execution_count": 15,
   "id": "1dce84d8-b674-45a0-8550-d19f42778142",
   "metadata": {
    "tags": []
   },
   "outputs": [
    {
     "name": "stdout",
     "output_type": "stream",
     "text": [
      "conv1.popup_scores tensor(0.5023, device='cuda:0')\n",
      "layer1.0.conv1.popup_scores tensor(0.4702, device='cuda:0')\n",
      "layer1.0.conv2.popup_scores tensor(0.4592, device='cuda:0')\n",
      "layer1.1.conv1.popup_scores tensor(0.4862, device='cuda:0')\n",
      "layer1.1.conv2.popup_scores tensor(0.4634, device='cuda:0')\n",
      "layer2.0.conv1.popup_scores tensor(0.4531, device='cuda:0')\n",
      "layer2.0.conv2.popup_scores tensor(0.4501, device='cuda:0')\n",
      "layer2.0.shortcut.0.popup_scores tensor(0.4626, device='cuda:0')\n",
      "layer2.1.conv1.popup_scores tensor(0.4370, device='cuda:0')\n",
      "layer2.1.conv2.popup_scores tensor(0.4401, device='cuda:0')\n",
      "layer3.0.conv1.popup_scores tensor(0.4399, device='cuda:0')\n",
      "layer3.0.conv2.popup_scores tensor(0.4431, device='cuda:0')\n",
      "layer3.0.shortcut.0.popup_scores tensor(0.4331, device='cuda:0')\n",
      "layer3.1.conv1.popup_scores tensor(0.4277, device='cuda:0')\n",
      "layer3.1.conv2.popup_scores tensor(0.4364, device='cuda:0')\n",
      "layer4.0.conv1.popup_scores tensor(0.4402, device='cuda:0')\n",
      "layer4.0.conv2.popup_scores tensor(0.4403, device='cuda:0')\n",
      "layer4.0.shortcut.0.popup_scores tensor(0.4294, device='cuda:0')\n",
      "layer4.1.conv1.popup_scores tensor(0.4132, device='cuda:0')\n",
      "layer4.1.conv2.popup_scores tensor(0.4459, device='cuda:0')\n",
      "linear.popup_scores tensor(0.3584, device='cuda:0')\n"
     ]
    }
   ],
   "source": [
    "for k, v in weight['state_dict'].items():\n",
    "    if \"popup\" in k:\n",
    "        print (k, torch.sum(v >= 1e-6) / np.prod(v.size()))"
   ]
  },
  {
   "cell_type": "code",
   "execution_count": null,
   "id": "fb00ac5d-9450-486f-a810-9d0ef59a0ffa",
   "metadata": {},
   "outputs": [],
   "source": []
  }
 ],
 "metadata": {
  "kernelspec": {
   "display_name": "Python 3 (ipykernel)",
   "language": "python",
   "name": "python3"
  },
  "language_info": {
   "codemirror_mode": {
    "name": "ipython",
    "version": 3
   },
   "file_extension": ".py",
   "mimetype": "text/x-python",
   "name": "python",
   "nbconvert_exporter": "python",
   "pygments_lexer": "ipython3",
   "version": "3.10.9"
  }
 },
 "nbformat": 4,
 "nbformat_minor": 5
}
