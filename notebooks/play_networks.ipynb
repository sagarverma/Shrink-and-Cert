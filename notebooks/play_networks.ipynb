{
 "cells": [
  {
   "cell_type": "code",
   "execution_count": 20,
   "id": "8bc847f2-b0ed-4d46-8bc8-76355f0b85ee",
   "metadata": {},
   "outputs": [],
   "source": [
    "import torch\n",
    "import torch.nn.functional as F \n",
    "\n",
    "import numpy as np\n",
    "from scipy.stats import truncnorm "
   ]
  },
  {
   "cell_type": "code",
   "execution_count": 28,
   "id": "d5a8c894-8995-42c6-a542-64a8021d9d9c",
   "metadata": {
    "tags": []
   },
   "outputs": [],
   "source": [
    "def l2_normalize(x):\n",
    "    return x / (torch.sqrt(torch.sum(x**2.)) + 1e-9)\n",
    "\n",
    "def trunc(shape):\n",
    "    return torch.from_numpy(truncnorm.rvs(0.5, 1, size=shape)).float()\n",
    "\n",
    "def linear_lipschitz(w, power_iters=5):\n",
    "    rand_x = trunc(w.shape[1]).type_as(w)\n",
    "    for _ in range(power_iters):\n",
    "        x = l2_normalize(rand_x)\n",
    "        x_p = F.linear(x, w) \n",
    "        rand_x = F.linear(x_p, w.T)\n",
    "\n",
    "    lc = torch.sqrt(torch.abs(torch.sum(w @ x)) / (torch.abs(torch.sum(x)) + 1e-9)).data.cpu().item()\n",
    "    return lc\n",
    "\n",
    "def conv_lipschitz(w, in_channels, stride=1, padding=0, power_iters=5):\n",
    "    rand_x = trunc((1, in_channels, 32, 32)).type_as(w)\n",
    "    for _ in range(power_iters):\n",
    "        x = l2_normalize(rand_x)\n",
    "        x_p = F.conv2d(x, w, \n",
    "                       stride=stride, \n",
    "                       padding=padding) \n",
    "        rand_x = F.conv_transpose2d(x_p, w, \n",
    "                                    stride=stride, \n",
    "                                    padding=padding)\n",
    "\n",
    "    Wx = F.conv2d(rand_x, w, \n",
    "                  stride=stride, padding=padding)\n",
    "    lc = torch.sqrt(torch.abs(torch.sum(Wx**2.)) / \n",
    "                    (torch.abs(torch.sum(rand_x**2.)) + 1e-9)).data.cpu().item()\n",
    "    return lc"
   ]
  },
  {
   "cell_type": "code",
   "execution_count": 71,
   "id": "cecda00c-6ec7-42a9-b0e5-44459dede52c",
   "metadata": {
    "tags": []
   },
   "outputs": [],
   "source": [
    "weight = torch.load('../trained_models/CIFAR10_VGG19_Hydra/pruned_model_best.pth.tar', map_location='cpu')"
   ]
  },
  {
   "cell_type": "code",
   "execution_count": 72,
   "id": "13cffd00-2d52-4c9d-9a74-0e56fcbf0634",
   "metadata": {
    "tags": []
   },
   "outputs": [
    {
     "name": "stdout",
     "output_type": "stream",
     "text": [
      "features.0.popup_scores 31.61339569091797 6.366943836212158\n",
      "features.3.popup_scores 2.0482726097106934 4.719913959503174\n",
      "features.7.popup_scores 1.0981258153915405 5.389538288116455\n",
      "features.10.popup_scores 0.5951802730560303 6.607568740844727\n",
      "features.14.popup_scores 0.4345148801803589 4.906081676483154\n",
      "features.17.popup_scores 0.3194398880004883 6.869846820831299\n",
      "features.20.popup_scores 0.2904692590236664 7.108527183532715\n",
      "features.24.popup_scores 0.2080521583557129 4.668399810791016\n",
      "features.27.popup_scores 0.08053360134363174 5.3613996505737305\n",
      "features.30.popup_scores 0.05451308190822601 5.0163350105285645\n",
      "features.34.popup_scores 0.020527759566903114 2.9826128482818604\n",
      "features.37.popup_scores 0.01119234599173069 2.5878677368164062\n",
      "features.40.popup_scores 0.01152096502482891 3.3716065883636475\n",
      "classifier.0.popup_scores 0.2551078796386719 0.7238613367080688\n",
      "classifier.2.popup_scores 3.691840410232544 1.3103415966033936\n",
      "classifier.4.popup_scores 5.800979137420654 0.55902099609375\n"
     ]
    }
   ],
   "source": [
    "for k, v in weight['state_dict'].items():\n",
    "    if \"popup\" in k:\n",
    "        if 'conv' in k or 'linear' in k or 'features' in k or 'classifier' in k:\n",
    "            w = weight['state_dict'][k.replace('popup_scores', 'weight')]\n",
    "            m = weight['state_dict'][k]\n",
    "            final = w * m\n",
    "            if 'conv' in k or 'features' in k:\n",
    "                lc = conv_lipschitz(final, v.shape[1], power_iters=10)\n",
    "                lc_org = conv_lipschitz(w, v.shape[1], power_iters=10)\n",
    "            else:\n",
    "                lc = linear_lipschitz(final)\n",
    "                lc_org = linear_lipschitz(w)\n",
    "\n",
    "            print (k, lc, lc_org)"
   ]
  },
  {
   "cell_type": "code",
   "execution_count": 68,
   "id": "65d8db98-d2ee-4ab9-8ff0-0272d64701b9",
   "metadata": {
    "tags": []
   },
   "outputs": [
    {
     "name": "stdout",
     "output_type": "stream",
     "text": [
      "features.0.weight 3.622633457183838\n",
      "features.3.weight 3.627657890319824\n",
      "features.7.weight 3.4148292541503906\n",
      "features.10.weight 4.630601406097412\n",
      "features.14.weight 3.592601776123047\n",
      "features.17.weight 4.500280857086182\n",
      "features.20.weight 4.9865498542785645\n",
      "features.24.weight 3.8369691371917725\n",
      "features.27.weight 3.7561752796173096\n",
      "features.30.weight 3.9328665733337402\n",
      "features.34.weight 3.051018714904785\n",
      "features.37.weight 3.801638126373291\n",
      "features.40.weight 6.44829797744751\n",
      "classifier.0.weight 0.896481454372406\n",
      "classifier.2.weight 1.234708547592163\n",
      "classifier.4.weight 0.041216135025024414\n"
     ]
    }
   ],
   "source": [
    "for k, v in weight['state_dict'].items():\n",
    "    if len(weight['state_dict'][k].shape) > 1:\n",
    "        if 'conv' in k or 'linear' in k or 'features' in k or 'classifier' in k:\n",
    "            w = weight['state_dict'][k]\n",
    "            if 'conv' in k or 'features' in k:\n",
    "                lc_org = conv_lipschitz(w, v.shape[1], power_iters=10)\n",
    "            else:\n",
    "                lc_org = linear_lipschitz(w)\n",
    "\n",
    "            print (k,lc_org)"
   ]
  },
  {
   "cell_type": "code",
   "execution_count": null,
   "id": "bbc04ea3-2108-4c76-976f-a256cbd48f7a",
   "metadata": {},
   "outputs": [],
   "source": []
  }
 ],
 "metadata": {
  "kernelspec": {
   "display_name": "Python 3 (ipykernel)",
   "language": "python",
   "name": "python3"
  },
  "language_info": {
   "codemirror_mode": {
    "name": "ipython",
    "version": 3
   },
   "file_extension": ".py",
   "mimetype": "text/x-python",
   "name": "python",
   "nbconvert_exporter": "python",
   "pygments_lexer": "ipython3",
   "version": "3.10.9"
  }
 },
 "nbformat": 4,
 "nbformat_minor": 5
}
