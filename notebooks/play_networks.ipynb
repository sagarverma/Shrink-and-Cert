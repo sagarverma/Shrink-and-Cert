{
 "cells": [
  {
   "cell_type": "code",
   "execution_count": 1,
   "id": "8bc847f2-b0ed-4d46-8bc8-76355f0b85ee",
   "metadata": {},
   "outputs": [],
   "source": [
    "import torch\n",
    "import torch.nn.functional as F \n",
    "\n",
    "import numpy as np\n",
    "from scipy.stats import truncnorm "
   ]
  },
  {
   "cell_type": "code",
   "execution_count": 2,
   "id": "d5a8c894-8995-42c6-a542-64a8021d9d9c",
   "metadata": {
    "tags": []
   },
   "outputs": [],
   "source": [
    "def l2_normalize(x):\n",
    "    return x / (torch.sqrt(torch.sum(x**2.)) + 1e-9)\n",
    "\n",
    "def trunc(shape):\n",
    "    return torch.from_numpy(truncnorm.rvs(0.5, 1, size=shape)).float()\n",
    "\n",
    "def linear_lipschitz(w, power_iters=5):\n",
    "    rand_x = trunc(w.shape[1]).type_as(w)\n",
    "    for _ in range(power_iters):\n",
    "        x = l2_normalize(rand_x)\n",
    "        x_p = F.linear(x, w) \n",
    "        rand_x = F.linear(x_p, w.T)\n",
    "\n",
    "    lc = torch.sqrt(torch.abs(torch.sum(w @ x)) / (torch.abs(torch.sum(x)) + 1e-9)).data.cpu().item()\n",
    "    return lc\n",
    "\n",
    "def conv_lipschitz(w, in_channels, stride=1, padding=0, power_iters=5):\n",
    "    rand_x = trunc((1, in_channels, 32, 32)).type_as(w)\n",
    "    for _ in range(power_iters):\n",
    "        x = l2_normalize(rand_x)\n",
    "        x_p = F.conv2d(x, w, \n",
    "                       stride=stride, \n",
    "                       padding=padding) \n",
    "        rand_x = F.conv_transpose2d(x_p, w, \n",
    "                                    stride=stride, \n",
    "                                    padding=padding)\n",
    "\n",
    "    Wx = F.conv2d(rand_x, w, \n",
    "                  stride=stride, padding=padding)\n",
    "    lc = torch.sqrt(torch.abs(torch.sum(Wx**2.)) / \n",
    "                    (torch.abs(torch.sum(rand_x**2.)) + 1e-9)).data.cpu().item()\n",
    "    return lc"
   ]
  },
  {
   "cell_type": "code",
   "execution_count": 4,
   "id": "cecda00c-6ec7-42a9-b0e5-44459dede52c",
   "metadata": {
    "tags": []
   },
   "outputs": [],
   "source": [
    "weight = torch.load('../trained_models/CIFAR10_cifar_model_large_Unstructured_BiC_FullClaim_0to0.05_accelerate/prune/0--k-0.0500_trainer-bilevel_epochs-100_arch-cifar_model_large/checkpoint/model_best.pth.tar', map_location='cpu')"
   ]
  },
  {
   "cell_type": "code",
   "execution_count": 8,
   "id": "13cffd00-2d52-4c9d-9a74-0e56fcbf0634",
   "metadata": {
    "tags": []
   },
   "outputs": [
    {
     "name": "stdout",
     "output_type": "stream",
     "text": [
      "conv1.popup_scores 0.7940506339073181 0.2443625032901764 21.589733123779297\n",
      "conv2.popup_scores 0.5392088890075684 0.6842237710952759 19.000612258911133\n",
      "conv3.popup_scores 0.3050970435142517 0.9473257660865784 11.75218677520752\n",
      "conv4.popup_scores 0.42373237013816833 1.821757435798645 12.645577430725098\n",
      "linear1.popup_scores 0.2104976773262024 0.708825409412384 1.2051116228103638\n",
      "linear2.popup_scores 0.32855159044265747 1.1262460947036743 0.3829747438430786\n",
      "linear3.popup_scores 0.4583682715892792 0.33438408374786377 2.0023016929626465\n"
     ]
    }
   ],
   "source": [
    "for k, v in weight['state_dict'].items():\n",
    "    if \"popup\" in k:\n",
    "        if 'conv' in k or 'linear' in k or 'features' in k or 'classifier' in k:\n",
    "            w = weight['state_dict'][k.replace('popup_scores', 'weight')]\n",
    "            m = torch.clamp(weight['state_dict'][k], 0, 0.05)\n",
    "            final = w * m\n",
    "            if 'conv' in k or 'features' in k:\n",
    "                lc = conv_lipschitz(final, v.shape[1], power_iters=10)\n",
    "                lc_m = conv_lipschitz(m, v.shape[1], power_iters=10)\n",
    "                lc_org = conv_lipschitz(w, v.shape[1], power_iters=10)\n",
    "            else:\n",
    "                lc = linear_lipschitz(final)\n",
    "                lc_m = linear_lipschitz(m)\n",
    "                lc_org = linear_lipschitz(w)\n",
    "\n",
    "            print (k, lc, lc_m ,lc_org)"
   ]
  },
  {
   "cell_type": "code",
   "execution_count": 12,
   "id": "65d8db98-d2ee-4ab9-8ff0-0272d64701b9",
   "metadata": {
    "tags": []
   },
   "outputs": [
    {
     "name": "stdout",
     "output_type": "stream",
     "text": [
      "conv1.weight 8.175479888916016\n",
      "conv2.weight 11.387417793273926\n",
      "conv3.weight 11.928955078125\n",
      "conv4.weight 18.98225975036621\n",
      "linear1.weight 1.4400274753570557\n",
      "linear2.weight 1.990193486213684\n",
      "linear3.weight 0.001821956830099225\n"
     ]
    }
   ],
   "source": [
    "for k, v in weight['state_dict'].items():\n",
    "    if len(weight['state_dict'][k].shape) > 1:\n",
    "        if 'conv' in k or 'linear' in k or 'features' in k or 'classifier' in k:\n",
    "            w = weight['state_dict'][k]\n",
    "            if 'conv' in k or 'features' in k:\n",
    "                lc_org = conv_lipschitz(w, v.shape[1], power_iters=10)\n",
    "            else:\n",
    "                lc_org = linear_lipschitz(w)\n",
    "\n",
    "            print (k,lc_org)"
   ]
  },
  {
   "cell_type": "code",
   "execution_count": null,
   "id": "bbc04ea3-2108-4c76-976f-a256cbd48f7a",
   "metadata": {},
   "outputs": [],
   "source": [
    "conv1.popup_scores 4.75579309463501 8.144059181213379\n",
    "conv2.popup_scores 2.5422472953796387 6.285704612731934\n",
    "conv3.popup_scores 1.517775297164917 7.100604057312012\n",
    "conv4.popup_scores 1.4837596416473389 9.892857551574707\n",
    "linear1.popup_scores 0.3069261610507965 0.9017798900604248\n",
    "linear2.popup_scores 0.5078356862068176 1.025170087814331\n",
    "linear3.popup_scores 0.6284152865409851 1.3841636180877686"
   ]
  },
  {
   "cell_type": "code",
   "execution_count": null,
   "id": "ed08ecab-a882-43e4-ad74-0ac5b9f30327",
   "metadata": {},
   "outputs": [],
   "source": [
    "conv1.popup_scores 4.960141181945801 9.786927223205566\n",
    "conv2.popup_scores 2.6566529273986816 6.438645362854004\n",
    "conv3.popup_scores 1.6294360160827637 7.351409912109375\n",
    "conv4.popup_scores 1.5126166343688965 9.763284683227539\n",
    "linear1.popup_scores 0.3041444420814514 0.8431172370910645\n",
    "linear2.popup_scores 0.5116637349128723 0.9854820370674133\n",
    "linear3.popup_scores 0.5906422734260559 1.1100908517837524"
   ]
  },
  {
   "cell_type": "code",
   "execution_count": null,
   "id": "fc2bf5d3-0fad-4f2f-9839-5b1f85b13fa4",
   "metadata": {},
   "outputs": [],
   "source": [
    "conv1.popup_scores 0.8496606945991516 12.465849876403809\n",
    "conv2.popup_scores 0.7736638784408569 11.91736888885498\n",
    "conv3.popup_scores 0.5257560014724731 9.201114654541016\n",
    "conv4.popup_scores 0.769010066986084 9.800241470336914\n",
    "linear1.popup_scores 0.2583720088005066 1.010354995727539\n",
    "linear2.popup_scores 0.3878075182437897 0.6782602071762085\n",
    "linear3.popup_scores 0.49336615204811096 1.8147735595703125"
   ]
  },
  {
   "cell_type": "code",
   "execution_count": null,
   "id": "4df76723-e71d-455b-a868-059c60e367b0",
   "metadata": {},
   "outputs": [],
   "source": [
    "conv1.popup_scores 0.7940255403518677 21.616945266723633\n",
    "conv2.popup_scores 0.5391982197761536 18.976423263549805\n",
    "conv3.popup_scores 0.30509668588638306 11.75127124786377\n",
    "conv4.popup_scores 0.42373186349868774 12.634675979614258\n",
    "linear1.popup_scores 0.21049615740776062 1.2048084735870361\n",
    "linear2.popup_scores 0.3285246193408966 0.4244447946548462\n",
    "linear3.popup_scores 0.45802968740463257 2.0037381649017334"
   ]
  }
 ],
 "metadata": {
  "kernelspec": {
   "display_name": "Python 3 (ipykernel)",
   "language": "python",
   "name": "python3"
  },
  "language_info": {
   "codemirror_mode": {
    "name": "ipython",
    "version": 3
   },
   "file_extension": ".py",
   "mimetype": "text/x-python",
   "name": "python",
   "nbconvert_exporter": "python",
   "pygments_lexer": "ipython3",
   "version": "3.10.9"
  }
 },
 "nbformat": 4,
 "nbformat_minor": 5
}
